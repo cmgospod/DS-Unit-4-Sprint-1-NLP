{
 "cells": [
  {
   "cell_type": "markdown",
   "metadata": {},
   "source": [
    "<img align=\"left\" src=\"https://lever-client-logos.s3.amazonaws.com/864372b1-534c-480e-acd5-9711f850815c-1524247202159.png\" width=200>\n",
    "<br></br>\n",
    "<br></br>\n",
    "\n",
    "# Sprint Challenge\n",
    "## *Data Science Unit 4 Sprint 1*\n",
    "\n",
    "After a week of Natural Language Processing, you've learned some cool new stuff: how to process text, how turn text into vectors, and how to model topics from documents. Apply your newly acquired skills to one of the most famous NLP datasets out there: [Yelp](https://www.yelp.com/dataset/challenge). As part of the job selection process, some of my friends have been asked to create analysis of this dataset, so I want to empower you to have a head start.  \n",
    "\n",
    "The real dataset is massive (almost 8 gigs uncompressed). I've sampled the data for you to something more managable for the Sprint Challenge. You can analyze the full dataset as a stretch goal or after the sprint challenge. As you work on the challenge, I suggest adding notes about your findings and things you want to analyze in the future.\n",
    "\n",
    "## Challenge Objectives\n",
    "*Successfully complete these all these objectives to earn a 2. There are more details on each objective further down in the notebook.*\n",
    "* <a href=\"#p1\">Part 1</a>: Write a function to tokenize the yelp reviews\n",
    "* <a href=\"#p2\">Part 2</a>: Create a vector representation of those tokens\n",
    "* <a href=\"#p3\">Part 3</a>: Use your tokens in a classification model on yelp rating\n",
    "* <a href=\"#p4\">Part 4</a>: Estimate & Interpret a topic model of the Yelp reviews"
   ]
  },
  {
   "cell_type": "code",
   "execution_count": 1,
   "metadata": {},
   "outputs": [],
   "source": [
    "from sklearn.feature_extraction.text import TfidfVectorizer\n",
    "from sklearn.neighbors import NearestNeighbors\n",
    "from sklearn.pipeline import Pipeline\n",
    "from sklearn.model_selection import GridSearchCV\n",
    "from sklearn.ensemble import RandomForestClassifier\n",
    "import pandas as pd\n",
    "import spacy\n",
    "yelp = pd.read_json('./data/review_sample.json', lines=True)"
   ]
  },
  {
   "cell_type": "code",
   "execution_count": 2,
   "metadata": {},
   "outputs": [
    {
     "data": {
      "text/html": [
       "<div>\n",
       "<style scoped>\n",
       "    .dataframe tbody tr th:only-of-type {\n",
       "        vertical-align: middle;\n",
       "    }\n",
       "\n",
       "    .dataframe tbody tr th {\n",
       "        vertical-align: top;\n",
       "    }\n",
       "\n",
       "    .dataframe thead th {\n",
       "        text-align: right;\n",
       "    }\n",
       "</style>\n",
       "<table border=\"1\" class=\"dataframe\">\n",
       "  <thead>\n",
       "    <tr style=\"text-align: right;\">\n",
       "      <th></th>\n",
       "      <th>business_id</th>\n",
       "      <th>cool</th>\n",
       "      <th>date</th>\n",
       "      <th>funny</th>\n",
       "      <th>review_id</th>\n",
       "      <th>stars</th>\n",
       "      <th>text</th>\n",
       "      <th>useful</th>\n",
       "      <th>user_id</th>\n",
       "    </tr>\n",
       "  </thead>\n",
       "  <tbody>\n",
       "    <tr>\n",
       "      <th>0</th>\n",
       "      <td>nDuEqIyRc8YKS1q1fX0CZg</td>\n",
       "      <td>1</td>\n",
       "      <td>2015-03-31 16:50:30</td>\n",
       "      <td>0</td>\n",
       "      <td>eZs2tpEJtXPwawvHnHZIgQ</td>\n",
       "      <td>1</td>\n",
       "      <td>BEWARE!!! FAKE, FAKE, FAKE....We also own a sm...</td>\n",
       "      <td>10</td>\n",
       "      <td>n1LM36qNg4rqGXIcvVXv8w</td>\n",
       "    </tr>\n",
       "    <tr>\n",
       "      <th>1</th>\n",
       "      <td>eMYeEapscbKNqUDCx705hg</td>\n",
       "      <td>0</td>\n",
       "      <td>2015-12-16 05:31:03</td>\n",
       "      <td>0</td>\n",
       "      <td>DoQDWJsNbU0KL1O29l_Xug</td>\n",
       "      <td>4</td>\n",
       "      <td>Came here for lunch Togo. Service was quick. S...</td>\n",
       "      <td>0</td>\n",
       "      <td>5CgjjDAic2-FAvCtiHpytA</td>\n",
       "    </tr>\n",
       "    <tr>\n",
       "      <th>2</th>\n",
       "      <td>6Q7-wkCPc1KF75jZLOTcMw</td>\n",
       "      <td>1</td>\n",
       "      <td>2010-06-20 19:14:48</td>\n",
       "      <td>1</td>\n",
       "      <td>DDOdGU7zh56yQHmUnL1idQ</td>\n",
       "      <td>3</td>\n",
       "      <td>I've been to Vegas dozens of times and had nev...</td>\n",
       "      <td>2</td>\n",
       "      <td>BdV-cf3LScmb8kZ7iiBcMA</td>\n",
       "    </tr>\n",
       "    <tr>\n",
       "      <th>3</th>\n",
       "      <td>k3zrItO4l9hwfLRwHBDc9w</td>\n",
       "      <td>3</td>\n",
       "      <td>2010-07-13 00:33:45</td>\n",
       "      <td>4</td>\n",
       "      <td>LfTMUWnfGFMOfOIyJcwLVA</td>\n",
       "      <td>1</td>\n",
       "      <td>We went here on a night where they closed off ...</td>\n",
       "      <td>5</td>\n",
       "      <td>cZZnBqh4gAEy4CdNvJailQ</td>\n",
       "    </tr>\n",
       "    <tr>\n",
       "      <th>4</th>\n",
       "      <td>6hpfRwGlOzbNv7k5eP9rsQ</td>\n",
       "      <td>1</td>\n",
       "      <td>2018-06-30 02:30:01</td>\n",
       "      <td>0</td>\n",
       "      <td>zJSUdI7bJ8PNJAg4lnl_Gg</td>\n",
       "      <td>4</td>\n",
       "      <td>3.5 to 4 stars\\n\\nNot bad for the price, $12.9...</td>\n",
       "      <td>5</td>\n",
       "      <td>n9QO4ClYAS7h9fpQwa5bhA</td>\n",
       "    </tr>\n",
       "  </tbody>\n",
       "</table>\n",
       "</div>"
      ],
      "text/plain": [
       "              business_id  cool                date  funny  \\\n",
       "0  nDuEqIyRc8YKS1q1fX0CZg     1 2015-03-31 16:50:30      0   \n",
       "1  eMYeEapscbKNqUDCx705hg     0 2015-12-16 05:31:03      0   \n",
       "2  6Q7-wkCPc1KF75jZLOTcMw     1 2010-06-20 19:14:48      1   \n",
       "3  k3zrItO4l9hwfLRwHBDc9w     3 2010-07-13 00:33:45      4   \n",
       "4  6hpfRwGlOzbNv7k5eP9rsQ     1 2018-06-30 02:30:01      0   \n",
       "\n",
       "                review_id  stars  \\\n",
       "0  eZs2tpEJtXPwawvHnHZIgQ      1   \n",
       "1  DoQDWJsNbU0KL1O29l_Xug      4   \n",
       "2  DDOdGU7zh56yQHmUnL1idQ      3   \n",
       "3  LfTMUWnfGFMOfOIyJcwLVA      1   \n",
       "4  zJSUdI7bJ8PNJAg4lnl_Gg      4   \n",
       "\n",
       "                                                text  useful  \\\n",
       "0  BEWARE!!! FAKE, FAKE, FAKE....We also own a sm...      10   \n",
       "1  Came here for lunch Togo. Service was quick. S...       0   \n",
       "2  I've been to Vegas dozens of times and had nev...       2   \n",
       "3  We went here on a night where they closed off ...       5   \n",
       "4  3.5 to 4 stars\\n\\nNot bad for the price, $12.9...       5   \n",
       "\n",
       "                  user_id  \n",
       "0  n1LM36qNg4rqGXIcvVXv8w  \n",
       "1  5CgjjDAic2-FAvCtiHpytA  \n",
       "2  BdV-cf3LScmb8kZ7iiBcMA  \n",
       "3  cZZnBqh4gAEy4CdNvJailQ  \n",
       "4  n9QO4ClYAS7h9fpQwa5bhA  "
      ]
     },
     "execution_count": 2,
     "metadata": {},
     "output_type": "execute_result"
    }
   ],
   "source": [
    "yelp.head()"
   ]
  },
  {
   "cell_type": "markdown",
   "metadata": {},
   "source": [
    "## Part 1: Tokenize Function\n",
    "<a id=\"#p1\"></a>\n",
    "\n",
    "Complete the function `tokenize`. Your function should\n",
    "- accept one document at a time\n",
    "- return a list of tokens\n",
    "\n",
    "You are free to use any method you have learned this week."
   ]
  },
  {
   "cell_type": "code",
   "execution_count": 3,
   "metadata": {},
   "outputs": [],
   "source": [
    "nlp = spacy.load(\"en_core_web_sm\")\n",
    "def tokenize(doc):\n",
    "    text = nlp(doc)\n",
    "    return [token.lemma_ for token in text if (token.is_stop != True) and (token.is_punct != True)]"
   ]
  },
  {
   "cell_type": "markdown",
   "metadata": {},
   "source": [
    "## Part 2: Vector Representation\n",
    "<a id=\"#p2\"></a>\n",
    "1. Create a vector representation of the reviews\n",
    "2. Write a fake review and query for the 10 most similiar reviews, print the text of the reviews. Do you notice any patterns?\n",
    "    - Given the size of the dataset, it will probably be best to use a `NearestNeighbors` model for this. "
   ]
  },
  {
   "cell_type": "code",
   "execution_count": 4,
   "metadata": {},
   "outputs": [],
   "source": [
    "words = yelp['text'].tolist()\n",
    "ratings = yelp['stars'].to_numpy()"
   ]
  },
  {
   "cell_type": "code",
   "execution_count": 5,
   "metadata": {},
   "outputs": [],
   "source": [
    "vect = TfidfVectorizer(tokenizer=tokenize)\n",
    "dtm = vect.fit_transform(words)\n",
    "dtm = pd.DataFrame(dtm.todense(), columns = vect.get_feature_names())"
   ]
  },
  {
   "cell_type": "code",
   "execution_count": 6,
   "metadata": {},
   "outputs": [
    {
     "data": {
      "text/plain": [
       "NearestNeighbors(algorithm='kd_tree', leaf_size=30, metric='minkowski',\n",
       "         metric_params=None, n_jobs=None, n_neighbors=10, p=2, radius=1.0)"
      ]
     },
     "execution_count": 6,
     "metadata": {},
     "output_type": "execute_result"
    }
   ],
   "source": [
    "fake = ['This place is awful!']\n",
    "nn = NearestNeighbors(n_neighbors=10, algorithm='kd_tree')\n",
    "nn.fit(dtm)"
   ]
  },
  {
   "cell_type": "code",
   "execution_count": 7,
   "metadata": {},
   "outputs": [
    {
     "name": "stdout",
     "output_type": "stream",
     "text": [
      "5209    Food is awful. Very disappointing because this...\n",
      "3313    My husband has been trying to reach Century Li...\n",
      "6827    Awful, rude service. They act like they don't ...\n",
      "457     Awful service and unfriendly staff. \\n\\nWe wer...\n",
      "8475    God awful place. Dirty and unorganized. People...\n",
      "4619    Awful experience. Screaming kids. Long wait. D...\n",
      "6205    What a awful meal and way overpriced. Service ...\n",
      "962     Awful. Absolutely awful.\\n\\nWent here with som...\n",
      "8689    Rico, the bartender, was awful. He was rude, f...\n",
      "9587    Other than the pricing, this company is awful....\n",
      "Name: text, dtype: object\n"
     ]
    }
   ],
   "source": [
    "madeup = vect.transform(fake)\n",
    "locations = nn.kneighbors(madeup.todense())[1]\n",
    "for location in locations:\n",
    "    print(yelp['text'][location])"
   ]
  },
  {
   "cell_type": "markdown",
   "metadata": {},
   "source": [
    "## Part 3: Classification\n",
    "<a id=\"#p3\"></a>\n",
    "Your goal in this section will be to predict `stars` from the review dataset. \n",
    "\n",
    "1. Create a piepline object with a sklearn `CountVectorizer` or `TfidfVector` and any sklearn classifier. Use that pipeline to estimate a model to predict `stars`. Use the Pipeline to predict a star rating for your fake review from Part 2. \n",
    "2. Tune the entire pipeline with a GridSearch"
   ]
  },
  {
   "cell_type": "code",
   "execution_count": 8,
   "metadata": {},
   "outputs": [],
   "source": [
    "rfc = RandomForestClassifier()\n",
    "pipe = Pipeline([('vect', vect), ('clf', rfc)])\n",
    "parameters = {\n",
    "    'vect__max_df': ( 0.75, 1.0),\n",
    "    'vect__min_df': (.02, .05),\n",
    "    'vect__max_features': (500,1000),\n",
    "    'clf__n_estimators':(5, 10,),\n",
    "    'clf__max_depth':(15,20)\n",
    "}"
   ]
  },
  {
   "cell_type": "code",
   "execution_count": 9,
   "metadata": {},
   "outputs": [],
   "source": [
    "# grid_search = GridSearchCV(pipe, parameters, cv=5, n_jobs=-1)\n",
    "# grid_search.fit(words, ratings)"
   ]
  },
  {
   "cell_type": "code",
   "execution_count": 10,
   "metadata": {},
   "outputs": [],
   "source": [
    "# grid_search.predict(madeup)"
   ]
  },
  {
   "cell_type": "markdown",
   "metadata": {},
   "source": [
    "## Part 4: Topic Modeling\n",
    "\n",
    "Let's find out what those yelp reviews are saying! :D\n",
    "\n",
    "1. Estimate a LDA topic model of the review text\n",
    "    - Keep the `iterations` parameter at or below 5 to reduce run time\n",
    "    - The `workers` parameter should match the number of physical cores on your machine.\n",
    "2. Create 1-2 visualizations of the results\n",
    "    - You can use the most important 3 words of a topic in relevant visualizations. Refer to yesterday's notebook to extract. \n",
    "3. In markdown, write 1-2 paragraphs of analysis on the results of your topic model\n",
    "\n",
    "__*Note*__: You can pass the DataFrame column of text reviews to gensim. You do not have to use a generator."
   ]
  },
  {
   "cell_type": "code",
   "execution_count": 11,
   "metadata": {
    "collapsed": false,
    "inputHidden": false,
    "jupyter": {
     "outputs_hidden": false
    },
    "outputHidden": false
   },
   "outputs": [
    {
     "name": "stderr",
     "output_type": "stream",
     "text": [
      "C:\\Users\\Michael\\Anaconda3\\envs\\NLP\\lib\\site-packages\\gensim\\utils.py:1197: UserWarning: detected Windows; aliasing chunkize to chunkize_serial\n",
      "  warnings.warn(\"detected Windows; aliasing chunkize to chunkize_serial\")\n"
     ]
    }
   ],
   "source": [
    "from gensim.models import LdaMulticore\n",
    "from gensim.corpora import Dictionary"
   ]
  },
  {
   "cell_type": "markdown",
   "metadata": {},
   "source": [
    "Learn the vocubalary of the yelp data:"
   ]
  },
  {
   "cell_type": "code",
   "execution_count": 12,
   "metadata": {},
   "outputs": [],
   "source": [
    "somewords = yelp['text'].apply(tokenize)\n",
    "id2word = Dictionary(somewords)"
   ]
  },
  {
   "cell_type": "markdown",
   "metadata": {},
   "source": [
    "Create a bag of words representation of the entire corpus"
   ]
  },
  {
   "cell_type": "code",
   "execution_count": 13,
   "metadata": {
    "collapsed": false,
    "inputHidden": false,
    "jupyter": {
     "outputs_hidden": false
    },
    "outputHidden": false
   },
   "outputs": [],
   "source": [
    "corpus = [id2word.doc2bow(text) for text in somewords]"
   ]
  },
  {
   "cell_type": "markdown",
   "metadata": {},
   "source": [
    "Your LDA model should be ready for estimation: "
   ]
  },
  {
   "cell_type": "code",
   "execution_count": 14,
   "metadata": {
    "collapsed": false,
    "inputHidden": false,
    "jupyter": {
     "outputs_hidden": false
    },
    "outputHidden": false
   },
   "outputs": [],
   "source": [
    "lda = LdaMulticore(corpus=corpus,\n",
    "                   id2word=id2word,\n",
    "                   iterations=5,\n",
    "                   workers=4,\n",
    "                   num_topics = 3\n",
    "                  )"
   ]
  },
  {
   "cell_type": "markdown",
   "metadata": {},
   "source": [
    "Create 1-2 visualizations of the results"
   ]
  },
  {
   "cell_type": "code",
   "execution_count": 15,
   "metadata": {
    "collapsed": false,
    "inputHidden": false,
    "jupyter": {
     "outputs_hidden": false
    },
    "outputHidden": false
   },
   "outputs": [],
   "source": [
    "import pyLDAvis.gensim\n",
    "pyLDAvis.enable_notebook()"
   ]
  },
  {
   "cell_type": "code",
   "execution_count": 17,
   "metadata": {},
   "outputs": [
    {
     "name": "stderr",
     "output_type": "stream",
     "text": [
      "C:\\Users\\Michael\\Anaconda3\\envs\\NLP\\lib\\site-packages\\pyLDAvis\\_prepare.py:257: FutureWarning: Sorting because non-concatenation axis is not aligned. A future version\n",
      "of pandas will change to not sort by default.\n",
      "\n",
      "To accept the future behavior, pass 'sort=False'.\n",
      "\n",
      "To retain the current behavior and silence the warning, pass 'sort=True'.\n",
      "\n",
      "  return pd.concat([default_term_info] + list(topic_dfs))\n"
     ]
    },
    {
     "data": {
      "text/html": [
       "\n",
       "<link rel=\"stylesheet\" type=\"text/css\" href=\"https://cdn.rawgit.com/bmabey/pyLDAvis/files/ldavis.v1.0.0.css\">\n",
       "\n",
       "\n",
       "<div id=\"ldavis_el1350425882249621201101603089\"></div>\n",
       "<script type=\"text/javascript\">\n",
       "\n",
       "var ldavis_el1350425882249621201101603089_data = {\"mdsDat\": {\"x\": [0.0011086547323059573, -0.0046823511164233115, 0.0035736963841173537], \"y\": [-0.004267134865804728, 0.0012740557969677917, 0.0029930790688369358], \"topics\": [1, 2, 3], \"cluster\": [1, 1, 1], \"Freq\": [33.57209777832031, 33.47801208496094, 32.949886322021484]}, \"tinfo\": {\"Category\": [\"Default\", \"Default\", \"Default\", \"Default\", \"Default\", \"Default\", \"Default\", \"Default\", \"Default\", \"Default\", \"Default\", \"Default\", \"Default\", \"Default\", \"Default\", \"Default\", \"Default\", \"Default\", \"Default\", \"Default\", \"Default\", \"Default\", \"Default\", \"Default\", \"Default\", \"Default\", \"Default\", \"Default\", \"Default\", \"Default\", \"Topic1\", \"Topic1\", \"Topic1\", \"Topic1\", \"Topic1\", \"Topic1\", \"Topic1\", \"Topic1\", \"Topic1\", \"Topic1\", \"Topic1\", \"Topic1\", \"Topic1\", \"Topic1\", \"Topic1\", \"Topic1\", \"Topic1\", \"Topic1\", \"Topic1\", \"Topic1\", \"Topic1\", \"Topic1\", \"Topic1\", \"Topic1\", \"Topic1\", \"Topic1\", \"Topic1\", \"Topic1\", \"Topic1\", \"Topic1\", \"Topic1\", \"Topic1\", \"Topic1\", \"Topic1\", \"Topic1\", \"Topic1\", \"Topic1\", \"Topic1\", \"Topic1\", \"Topic1\", \"Topic1\", \"Topic1\", \"Topic1\", \"Topic1\", \"Topic1\", \"Topic1\", \"Topic1\", \"Topic1\", \"Topic1\", \"Topic1\", \"Topic1\", \"Topic1\", \"Topic1\", \"Topic1\", \"Topic1\", \"Topic1\", \"Topic1\", \"Topic1\", \"Topic1\", \"Topic1\", \"Topic1\", \"Topic1\", \"Topic1\", \"Topic1\", \"Topic1\", \"Topic1\", \"Topic1\", \"Topic1\", \"Topic1\", \"Topic1\", \"Topic1\", \"Topic1\", \"Topic1\", \"Topic1\", \"Topic1\", \"Topic1\", \"Topic1\", \"Topic1\", \"Topic1\", \"Topic1\", \"Topic1\", \"Topic1\", \"Topic1\", \"Topic1\", \"Topic1\", \"Topic1\", \"Topic1\", \"Topic1\", \"Topic1\", \"Topic2\", \"Topic2\", \"Topic2\", \"Topic2\", \"Topic2\", \"Topic2\", \"Topic2\", \"Topic2\", \"Topic2\", \"Topic2\", \"Topic2\", \"Topic2\", \"Topic2\", \"Topic2\", \"Topic2\", \"Topic2\", \"Topic2\", \"Topic2\", \"Topic2\", \"Topic2\", \"Topic2\", \"Topic2\", \"Topic2\", \"Topic2\", \"Topic2\", \"Topic2\", \"Topic2\", \"Topic2\", \"Topic2\", \"Topic2\", \"Topic2\", \"Topic2\", \"Topic2\", \"Topic2\", \"Topic2\", \"Topic2\", \"Topic2\", \"Topic2\", \"Topic2\", \"Topic2\", \"Topic2\", \"Topic2\", \"Topic2\", \"Topic2\", \"Topic2\", \"Topic2\", \"Topic2\", \"Topic2\", \"Topic2\", \"Topic2\", \"Topic2\", \"Topic2\", \"Topic2\", \"Topic2\", \"Topic2\", \"Topic2\", \"Topic2\", \"Topic2\", \"Topic2\", \"Topic2\", \"Topic2\", \"Topic2\", \"Topic2\", \"Topic2\", \"Topic2\", \"Topic2\", \"Topic2\", \"Topic2\", \"Topic2\", \"Topic2\", \"Topic2\", \"Topic2\", \"Topic2\", \"Topic2\", \"Topic2\", \"Topic2\", \"Topic2\", \"Topic2\", \"Topic2\", \"Topic2\", \"Topic2\", \"Topic2\", \"Topic2\", \"Topic2\", \"Topic3\", \"Topic3\", \"Topic3\", \"Topic3\", \"Topic3\", \"Topic3\", \"Topic3\", \"Topic3\", \"Topic3\", \"Topic3\", \"Topic3\", \"Topic3\", \"Topic3\", \"Topic3\", \"Topic3\", \"Topic3\", \"Topic3\", \"Topic3\", \"Topic3\", \"Topic3\", \"Topic3\", \"Topic3\", \"Topic3\", \"Topic3\", \"Topic3\", \"Topic3\", \"Topic3\", \"Topic3\", \"Topic3\", \"Topic3\", \"Topic3\", \"Topic3\", \"Topic3\", \"Topic3\", \"Topic3\", \"Topic3\", \"Topic3\", \"Topic3\", \"Topic3\", \"Topic3\", \"Topic3\", \"Topic3\", \"Topic3\", \"Topic3\", \"Topic3\", \"Topic3\", \"Topic3\", \"Topic3\", \"Topic3\", \"Topic3\", \"Topic3\", \"Topic3\", \"Topic3\", \"Topic3\", \"Topic3\", \"Topic3\", \"Topic3\", \"Topic3\", \"Topic3\", \"Topic3\", \"Topic3\", \"Topic3\", \"Topic3\", \"Topic3\", \"Topic3\", \"Topic3\", \"Topic3\", \"Topic3\", \"Topic3\", \"Topic3\", \"Topic3\", \"Topic3\", \"Topic3\", \"Topic3\", \"Topic3\", \"Topic3\", \"Topic3\", \"Topic3\", \"Topic3\", \"Topic3\", \"Topic3\", \"Topic3\", \"Topic3\", \"Topic3\", \"Topic3\", \"Topic3\", \"Topic3\", \"Topic3\"], \"Freq\": [3052.0, 4689.0, 4092.0, 1461.0, 2950.0, 2456.0, 998.0, 1358.0, 4100.0, 730.0, 1708.0, 3743.0, 619.0, 1319.0, 2775.0, 1052.0, 896.0, 1001.0, 1091.0, 1495.0, 2117.0, 841.0, 1447.0, 8126.0, 3625.0, 1534.0, 1744.0, 1052.0, 1032.0, 1481.0, 2.8791816234588623, 1.6619502305984497, 1.6140915155410767, 2.9083211421966553, 1.6040750741958618, 1.5877885818481445, 5.037474632263184, 2.655325174331665, 1.900972604751587, 2.482801914215088, 18.012733459472656, 1.5547518730163574, 6.170413017272949, 6.809537887573242, 3.607558012008667, 48.886749267578125, 1.5370631217956543, 6.213061809539795, 1.53239905834198, 26.742759704589844, 3.480468511581421, 1.5241200923919678, 2.748340129852295, 1.5203840732574463, 37.15126419067383, 2.567354202270508, 2.4124557971954346, 16.30705451965332, 2.562594175338745, 1.5138691663742065, 245.46377563476562, 181.6869354248047, 18.471309661865234, 317.94097900390625, 5.613951206207275, 33.14364242553711, 19.237295150756836, 71.86317443847656, 14.117783546447754, 347.8071594238281, 633.7406005859375, 283.22216796875, 71.1922836303711, 901.55712890625, 123.81346893310547, 651.2360229492188, 1670.948486328125, 265.1809997558594, 177.69635009765625, 430.3592224121094, 72.85234832763672, 378.0005798339844, 282.3692626953125, 454.55487060546875, 339.2306823730469, 34.140655517578125, 356.22344970703125, 2887.71533203125, 144.81353759765625, 1705.8162841796875, 1492.927490234375, 1804.0460205078125, 298.1466369628906, 4566.298828125, 2109.12841796875, 1176.4578857421875, 539.8723754882812, 329.527587890625, 274.7718505859375, 1193.46630859375, 609.4800415039062, 1256.3736572265625, 495.314697265625, 1018.629150390625, 547.5921020507812, 945.4763793945312, 532.8380737304688, 438.90509033203125, 1039.55908203125, 525.4678955078125, 695.6511840820312, 578.2633056640625, 522.9756469726562, 801.2955322265625, 542.8233642578125, 569.8922729492188, 595.9324340820312, 666.4849243164062, 511.1583251953125, 5.2488627433776855, 2.069610834121704, 1.68662428855896, 3.0130035877227783, 9.151724815368652, 1.6381816864013672, 3.246980905532837, 1.6046972274780273, 1.5978530645370483, 2.1966938972473145, 1.592453122138977, 1.1692043542861938, 5.813645839691162, 1.568136215209961, 1.81625497341156, 11.531211853027344, 1.8916643857955933, 1.147565245628357, 3.2913992404937744, 1.7969027757644653, 50.68952941894531, 4.166500568389893, 4.229335308074951, 1.525327444076538, 1.5259196758270264, 48.949745178222656, 50.28261947631836, 6.554510593414307, 2.821500062942505, 1.5208748579025269, 358.8392028808594, 6.375781536102295, 12.517358779907227, 27.802812576293945, 140.90245056152344, 209.60169982910156, 56.905704498291016, 763.7793579101562, 473.7395935058594, 78.5623550415039, 456.4664306640625, 1056.604248046875, 1253.94775390625, 124.07382202148438, 212.91201782226562, 16.828311920166016, 155.00640869140625, 726.5090942382812, 406.3564758300781, 618.16259765625, 202.4989776611328, 1499.350830078125, 428.2744140625, 266.15594482421875, 1418.2366943359375, 542.1656494140625, 306.4283142089844, 2924.68798828125, 4718.72705078125, 430.326416015625, 636.3933715820312, 1824.654296875, 2090.921630859375, 439.06463623046875, 352.7261962890625, 533.8719482421875, 773.9617919921875, 352.11297607421875, 420.4471435546875, 1030.3995361328125, 507.8893127441406, 1049.8466796875, 511.65399169921875, 1148.867919921875, 844.7432250976562, 574.5059814453125, 1212.2164306640625, 1048.44677734375, 548.3961791992188, 620.41162109375, 501.9737854003906, 726.08935546875, 552.7708740234375, 497.21533203125, 5.463161468505859, 5.308137893676758, 1.6654980182647705, 1.6409029960632324, 2.7344768047332764, 1.955743432044983, 1.5952521562576294, 3.0207531452178955, 1.5830050706863403, 2.669976234436035, 1.5014514923095703, 1.5782676935195923, 2.6686737537384033, 1.5774881839752197, 2.9221558570861816, 1.572523832321167, 1.5714980363845825, 1.1543879508972168, 2.8219470977783203, 5.31081485748291, 310.8822326660156, 2.219613790512085, 2.2150681018829346, 1.8797308206558228, 2.617497682571411, 1.5453271865844727, 1.5427800416946411, 0.8043649792671204, 4.978790283203125, 1.5371406078338623, 27.55777359008789, 28.885225296020508, 616.494384765625, 91.14668273925781, 27.395423889160156, 446.1882019042969, 645.6555786132812, 1307.7989501953125, 278.76141357421875, 75.2251205444336, 28.491479873657227, 436.249755859375, 256.8246765136719, 27.591825485229492, 360.22088623046875, 197.24119567871094, 381.84429931640625, 1129.7752685546875, 37.74716567993164, 52.32034683227539, 273.2599792480469, 135.32752990722656, 71.97445678710938, 758.0861206054688, 1771.0599365234375, 1551.02197265625, 426.31207275390625, 593.3463745117188, 335.4588928222656, 134.55828857421875, 368.7513732910156, 514.0220336914062, 459.4259338378906, 301.3124694824219, 4465.2861328125, 528.8758544921875, 539.9462890625, 294.9988708496094, 513.7086791992188, 1168.65673828125, 414.2456359863281, 1825.3358154296875, 1168.136962890625, 2314.1630859375, 1280.891845703125, 1052.9942626953125, 1415.940185546875, 691.4822998046875, 514.7399291992188, 478.9524230957031, 987.3941040039062, 733.3151245117188, 540.1619873046875, 750.687744140625, 595.9646606445312, 530.8294067382812, 517.3836669921875, 483.6902770996094], \"Term\": [\"\\n\", \"food\", \"great\", \"day\", \"go\", \"try\", \"night\", \"drink\", \"time\", \"flavor\", \"nice\", \"come\", \"awesome\", \"people\", \"get\", \"new\", \"well\", \"bar\", \"taste\", \"staff\", \"love\", \"clean\", \"ask\", \"\\n\\n\", \"like\", \"find\", \"want\", \"fry\", \"friend\", \"say\", \"Penzys\", \"sandbar\", \"Cluny\", \"und\", \"Margs\", \"Yeahhhhhhh\", \"fraud\", \"dilate\", \"pitfall\", \"App\", \"trash\", \"3:55\", \"hoagie\", \"Pumpkin\", \"Kabab\", \"pain\", \"manicured\", \"competent\", \"cantina\", \"Steak\", \"lebanese\", \"Victor\", \"Children\", \"APARTMENT\", \"yelp\", \"7699.00\", \"E\", \"focus\", \"Brooker\", \"Holidays\", \"selection\", \"hair\", \"pig\", \"dinner\", \"cabinet\", \"stylist\", \"stumble\", \"donut\", \"camera\", \"store\", \"ask\", \"stop\", \"bag\", \"love\", \"oh\", \"find\", \"time\", \"help\", \"husband\", \"minute\", \"italian\", \"fresh\", \"car\", \"feel\", \"pay\", \"bunch\", \"visit\", \"\\n\\n\", \"party\", \"food\", \"great\", \"place\", \"sit\", \" \", \"good\", \"order\", \"think\", \"server\", \"different\", \"service\", \"wait\", \"come\", \"people\", \"\\n\", \"staff\", \"go\", \"work\", \"chicken\", \"like\", \"tell\", \"$\", \"price\", \"eat\", \"get\", \"restaurant\", \"want\", \"look\", \"try\", \"know\", \"Hollandaise\", \"vampiro\", \"orbitz\", \"Bally\", \"Ale\", \"whooaaaa\", \"planet\", \"interchangeably\", \"propre\", \"7.5\", \"romper\", \"McRib\", \"torta\", \"fixable\", \"swimsuit\", \"closed\", \"PRICED\", \"edgy\", \"Nail\", \"Jaipur\", \"la\", \"audio\", \"congee\", \"spicery\", \"Wachtel\", \"client\", \"tiny\", \"Atmosphere\", \"Barista\", \"locatoon\", \"flavor\", \"2.00\", \"peaceful\", \"yogurt\", \"variety\", \"kid\", \"Food\", \"nice\", \"new\", \"pasta\", \"friend\", \"try\", \"go\", \"happen\", \"soup\", \"McDonald\", \"extra\", \"want\", \"year\", \"say\", \"money\", \"come\", \"pretty\", \"excellent\", \"like\", \"people\", \"5\", \"\\n\\n\", \" \", \"customer\", \"know\", \"place\", \"good\", \"taste\", \"meal\", \"experience\", \"$\", \"check\", \"way\", \"order\", \"definitely\", \"service\", \"think\", \"time\", \"get\", \"price\", \"food\", \"great\", \"restaurant\", \"love\", \"take\", \"\\n\", \"look\", \"work\", \"cheesetart\", \"sole\", \"dolci\", \"mbr\", \"Leann\", \"axle\", \"inconvience\", \"snobbish\", \"uplift\", \"outrageously\", \"Ana\", \"california\", \"Ink\", \"nancy\", \"Team\", \"BUGS\", \"STFU\", \"Affiliated\", \"Crust\", \"brussel\", \"awesome\", \"FRAUD\", \"Painting\", \"carriage\", \"Cheesetart\", \"clemente\", \"kibbi\", \"blowingly\", \"horrific\", \"ranchos\", \"elevator\", \"Super\", \"drink\", \"terrible\", \"decorate\", \"night\", \"day\", \"\\n\", \"open\", \"cup\", \"resort\", \"bar\", \" \\n\\n\", \"relaxing\", \"clean\", \"breakfast\", \"well\", \"get\", \"specialty\", \"pleased\", \"quality\", \"show\", \"pricey\", \"look\", \"food\", \"great\", \"fry\", \"staff\", \"bit\", \"15\", \"star\", \"need\", \"bad\", \"long\", \" \", \"definitely\", \"take\", \"home\", \"little\", \"service\", \"taste\", \"good\", \"like\", \"\\n\\n\", \"time\", \"order\", \"place\", \"$\", \"tell\", \"friendly\", \"come\", \"try\", \"wait\", \"go\", \"love\", \"price\", \"restaurant\", \"find\"], \"Total\": [3052.0, 4689.0, 4092.0, 1461.0, 2950.0, 2456.0, 998.0, 1358.0, 4100.0, 730.0, 1708.0, 3743.0, 619.0, 1319.0, 2775.0, 1052.0, 896.0, 1001.0, 1091.0, 1495.0, 2117.0, 841.0, 1447.0, 8126.0, 3625.0, 1534.0, 1744.0, 1052.0, 1032.0, 1481.0, 5.196424961090088, 3.071883201599121, 3.0712106227874756, 5.539225101470947, 3.0740015506744385, 3.0721232891082764, 9.785547256469727, 5.19710636138916, 3.727585554122925, 4.885562896728516, 35.50444030761719, 3.072610378265381, 12.247367858886719, 13.527729034423828, 7.173530101776123, 97.35627746582031, 3.072484254837036, 12.42017650604248, 3.072650909423828, 53.803321838378906, 7.016317367553711, 3.072770833969116, 5.541353225708008, 3.0709872245788574, 75.13644409179688, 5.201441764831543, 4.887786388397217, 33.051719665527344, 5.1985554695129395, 3.076388120651245, 510.76666259765625, 377.55810546875, 37.56877899169922, 675.87744140625, 11.45953369140625, 69.38835144042969, 39.884883880615234, 154.21908569335938, 29.31981658935547, 777.98291015625, 1447.8494873046875, 633.60986328125, 154.05091857910156, 2117.933349609375, 274.6181335449219, 1534.4302978515625, 4100.7080078125, 605.813720703125, 400.629638671875, 1010.46337890625, 159.37538146972656, 895.135009765625, 664.3099365234375, 1102.48388671875, 817.458251953125, 73.31619262695312, 866.3657836914062, 8126.56640625, 336.99359130859375, 4689.0927734375, 4092.396240234375, 5044.640625, 730.341552734375, 13750.3115234375, 6025.3857421875, 3259.8515625, 1407.946044921875, 818.9410400390625, 671.5577392578125, 3411.9697265625, 1620.2996826171875, 3743.11865234375, 1319.5262451171875, 3052.517578125, 1495.614501953125, 2950.11181640625, 1459.318359375, 1153.349853515625, 3625.932861328125, 1462.339111328125, 2161.09521484375, 1683.5986328125, 1477.565185546875, 2775.81396484375, 1608.6031494140625, 1744.626220703125, 1906.78955078125, 2456.404296875, 1621.2088623046875, 9.470014572143555, 3.7401015758514404, 3.083528995513916, 5.570361137390137, 17.172441482543945, 3.0831756591796875, 6.215320587158203, 3.0838088989257812, 3.082242488861084, 4.245619773864746, 3.0882084369659424, 2.2704129219055176, 11.304089546203613, 3.078896999359131, 3.5813682079315186, 22.787513732910156, 3.7407314777374268, 2.269615650177002, 6.535919189453125, 3.5791869163513184, 101.35196685791016, 8.331284523010254, 8.498406410217285, 3.083134174346924, 3.085394859313965, 98.99673461914062, 101.71154022216797, 13.26279067993164, 5.715976715087891, 3.085613965988159, 730.3247680664062, 12.948826789855957, 25.59941864013672, 57.440391540527344, 297.1177673339844, 446.4037170410156, 118.68952941894531, 1708.14599609375, 1052.6484375, 168.05873107910156, 1032.6422119140625, 2456.404296875, 2950.11181640625, 272.5718994140625, 475.6628112792969, 34.927669525146484, 346.7010803222656, 1744.626220703125, 956.1517333984375, 1481.034912109375, 463.18310546875, 3743.11865234375, 1021.9722900390625, 621.107666015625, 3625.932861328125, 1319.5262451171875, 726.2611083984375, 8126.56640625, 13750.3115234375, 1063.068359375, 1621.2088623046875, 5044.640625, 6025.3857421875, 1091.7659912109375, 864.5300903320312, 1399.9013671875, 2161.09521484375, 890.4293823242188, 1095.7022705078125, 3259.8515625, 1390.878173828125, 3411.9697265625, 1407.946044921875, 4100.7080078125, 2775.81396484375, 1683.5986328125, 4689.0927734375, 4092.396240234375, 1608.6031494140625, 2117.933349609375, 1430.04443359375, 3052.517578125, 1906.78955078125, 1459.318359375, 9.550028800964355, 9.39510440826416, 3.103257894515991, 3.100902557373047, 5.2462286949157715, 3.7621679306030273, 3.0993826389312744, 5.901640892028809, 3.101088523864746, 5.240845680236816, 2.947350025177002, 3.100196361541748, 5.244350433349609, 3.1026153564453125, 5.749113082885742, 3.102231502532959, 3.101144313812256, 2.2814292907714844, 5.59086275100708, 10.540274620056152, 619.22998046875, 4.423654556274414, 4.42368221282959, 3.7611536979675293, 5.243197441101074, 3.1002657413482666, 3.0990939140319824, 1.620296597480774, 10.031593322753906, 3.098883628845215, 57.028751373291016, 59.977142333984375, 1358.0283203125, 194.4122314453125, 57.40802764892578, 998.0234375, 1461.270751953125, 3052.517578125, 628.2030639648438, 162.81939697265625, 60.11663818359375, 1001.7041625976562, 581.3458251953125, 58.68983459472656, 841.4519653320312, 450.26397705078125, 896.4657592773438, 2775.81396484375, 81.70462036132812, 114.8906021118164, 642.944580078125, 309.23236083984375, 160.41024780273438, 1906.78955078125, 4689.0927734375, 4092.396240234375, 1052.9388427734375, 1495.614501953125, 825.0823974609375, 313.7176208496094, 921.279541015625, 1321.1151123046875, 1172.3531494140625, 746.3765869140625, 13750.3115234375, 1390.878173828125, 1430.04443359375, 738.164794921875, 1359.880615234375, 3411.9697265625, 1091.7659912109375, 6025.3857421875, 3625.932861328125, 8126.56640625, 4100.7080078125, 3259.8515625, 5044.640625, 2161.09521484375, 1462.339111328125, 1326.3865966796875, 3743.11865234375, 2456.404296875, 1620.2996826171875, 2950.11181640625, 2117.933349609375, 1683.5986328125, 1608.6031494140625, 1534.4302978515625], \"loglift\": [30.0, 29.0, 28.0, 27.0, 26.0, 25.0, 24.0, 23.0, 22.0, 21.0, 20.0, 19.0, 18.0, 17.0, 16.0, 15.0, 14.0, 13.0, 12.0, 11.0, 10.0, 9.0, 8.0, 7.0, 6.0, 5.0, 4.0, 3.0, 2.0, 1.0, 0.5009999871253967, 0.4772000014781952, 0.448199987411499, 0.4472000002861023, 0.4410000145435333, 0.43140000104904175, 0.42750000953674316, 0.41990000009536743, 0.4180999994277954, 0.4146000146865845, 0.41290000081062317, 0.41029998660087585, 0.4059000015258789, 0.4050999879837036, 0.4041000008583069, 0.4025999903678894, 0.39890000224113464, 0.39879998564720154, 0.39579999446868896, 0.39239999651908875, 0.3903999924659729, 0.3903000056743622, 0.3901999890804291, 0.38839998841285706, 0.3871999979019165, 0.3853999972343445, 0.3853999972343445, 0.38499999046325684, 0.3840999901294708, 0.3824000060558319, 0.3587000072002411, 0.36000001430511475, 0.3815000057220459, 0.33730000257492065, 0.37790000438690186, 0.35260000824928284, 0.36230000853538513, 0.3278999924659729, 0.36059999465942383, 0.2863999903202057, 0.2653000056743622, 0.28630000352859497, 0.319599986076355, 0.23739999532699585, 0.29490000009536743, 0.23440000414848328, 0.19370000064373016, 0.2653000056743622, 0.2784999907016754, 0.2379000037908554, 0.3086000084877014, 0.22939999401569366, 0.23589999973773956, 0.20550000667572021, 0.21199999749660492, 0.3271999955177307, 0.20270000398159027, 0.0568000003695488, 0.24690000712871552, 0.08030000329017639, 0.08309999853372574, 0.06319999694824219, 0.19550000131130219, -0.010900000110268593, 0.04179999977350235, 0.0723000019788742, 0.13289999961853027, 0.181099995970726, 0.19779999554157257, 0.04100000113248825, 0.1137000024318695, -0.00019999999494757503, 0.11159999668598175, -0.006000000052154064, 0.08669999986886978, -0.04639999940991402, 0.08399999886751175, 0.12530000507831573, -0.15780000388622284, 0.06800000369548798, -0.041999999433755875, 0.02280000038444996, 0.05290000140666962, -0.1509999930858612, 0.005100000184029341, -0.027400000020861626, -0.07159999758005142, -0.21299999952316284, -0.06279999762773514, 0.5041999816894531, 0.5024999976158142, 0.4909000098705292, 0.4797999858856201, 0.4648999869823456, 0.461899995803833, 0.4449999928474426, 0.44110000133514404, 0.4372999966144562, 0.43529999256134033, 0.4320000112056732, 0.43059998750686646, 0.4293000102043152, 0.4196000099182129, 0.41530001163482666, 0.413100004196167, 0.4124999940395355, 0.4122999906539917, 0.4083000123500824, 0.4052000045776367, 0.40139999985694885, 0.40130001306533813, 0.39640000462532043, 0.390500009059906, 0.3901999890804291, 0.38999998569488525, 0.3898000121116638, 0.3894999921321869, 0.38830000162124634, 0.38679999113082886, 0.38370001316070557, 0.38580000400543213, 0.37880000472068787, 0.3686999976634979, 0.3481999933719635, 0.3382999897003174, 0.35920000076293945, 0.28940001130104065, 0.29589998722076416, 0.33390000462532043, 0.27790001034736633, 0.25060001015663147, 0.2387000024318695, 0.30730000138282776, 0.2904999852180481, 0.36410000920295715, 0.28929999470710754, 0.21819999814033508, 0.2386000007390976, 0.22050000727176666, 0.2669000029563904, 0.1793999969959259, 0.22460000216960907, 0.24690000712871552, 0.15559999644756317, 0.20479999482631683, 0.2313999980688095, 0.0723000019788742, 0.024800000712275505, 0.1898999959230423, 0.15919999778270721, 0.07729999721050262, 0.03590000048279762, 0.1834000051021576, 0.19779999554157257, 0.13030000030994415, 0.0674000009894371, 0.1665000021457672, 0.1363999992609024, -0.057500001043081284, 0.0869000032544136, -0.0843999981880188, 0.0820000022649765, -0.17810000479221344, -0.09539999812841415, 0.019099999219179153, -0.25850000977516174, -0.26750001311302185, 0.018200000748038292, -0.13349999487400055, 0.04740000143647194, -0.3418000042438507, -0.14399999380111694, 0.01759999990463257, 0.5516999959945679, 0.5392000079154968, 0.4878999888896942, 0.47369998693466187, 0.4586000144481659, 0.4560000002384186, 0.44600000977516174, 0.4404999911785126, 0.43779999017715454, 0.4357999861240387, 0.435699999332428, 0.4350000023841858, 0.43459999561309814, 0.43380001187324524, 0.4334999918937683, 0.43070000410079956, 0.430400013923645, 0.42899999022483826, 0.42649999260902405, 0.424699991941452, 0.421099990606308, 0.4205000102519989, 0.41850000619888306, 0.41659998893737793, 0.4154999852180481, 0.4138999879360199, 0.41269999742507935, 0.4099000096321106, 0.40959998965263367, 0.4090999960899353, 0.3828999996185303, 0.37950000166893005, 0.3203999996185303, 0.35269999504089355, 0.37040001153945923, 0.3050999939441681, 0.29339998960494995, 0.26260000467300415, 0.2976999878883362, 0.33799999952316284, 0.3634999990463257, 0.27889999747276306, 0.29319998621940613, 0.3553999960422516, 0.26179999113082886, 0.2847999930381775, 0.2567000091075897, 0.21130000054836273, 0.33799999952316284, 0.32359999418258667, 0.25450000166893005, 0.28380000591278076, 0.30880001187324524, 0.18780000507831573, 0.13650000095367432, 0.14000000059604645, 0.20600000023841858, 0.18569999933242798, 0.2101999968290329, 0.263700008392334, 0.19449999928474426, 0.16619999706745148, 0.17339999973773956, 0.20309999585151672, -0.014499999582767487, 0.14319999516010284, 0.13619999587535858, 0.19300000369548798, 0.13670000433921814, 0.03869999945163727, 0.14110000431537628, -0.08399999886751175, -0.02250000089406967, -0.14589999616146088, -0.05339999869465828, -0.019899999722838402, -0.16040000319480896, -0.029400000348687172, 0.06610000133514404, 0.09160000085830688, -0.2223999947309494, -0.09870000183582306, 0.011699999682605267, -0.25839999318122864, -0.15780000388622284, -0.04410000145435333, -0.02419999986886978, -0.04430000111460686], \"logprob\": [30.0, 29.0, 28.0, 27.0, 26.0, 25.0, 24.0, 23.0, 22.0, 21.0, 20.0, 19.0, 18.0, 17.0, 16.0, 15.0, 14.0, 13.0, 12.0, 11.0, 10.0, 9.0, 8.0, 7.0, 6.0, 5.0, 4.0, 3.0, 2.0, 1.0, -11.014399528503418, -11.563899993896484, -11.593099594116211, -11.004300117492676, -11.59939956665039, -11.609600067138672, -10.454999923706055, -11.09529972076416, -11.429499626159668, -11.162500381469727, -9.180800437927246, -11.630599975585938, -10.252099990844727, -10.153599739074707, -10.788900375366211, -8.18239974975586, -11.642000198364258, -10.24530029296875, -11.645099639892578, -8.785599708557129, -10.824700355529785, -11.650500297546387, -11.06089973449707, -11.652899742126465, -8.456899642944336, -11.128999710083008, -11.191300392150879, -9.28030014038086, -11.130900382995605, -11.65719985961914, -6.56879997253418, -6.86959981918335, -9.155699729919434, -6.309999942779541, -10.346599578857422, -8.571100234985352, -9.115099906921387, -7.797100067138672, -9.424500465393066, -6.220300197601318, -5.620299816131592, -6.4257001876831055, -7.80649995803833, -5.2677998542785645, -7.2530999183654785, -5.5929999351501465, -4.6508002281188965, -6.491499900817871, -6.8917999267578125, -6.007299900054932, -7.7835001945495605, -6.13700008392334, -6.428699970245361, -5.952600002288818, -6.245200157165527, -8.541399955749512, -6.196300029754639, -4.103700160980225, -7.096499919891357, -4.630099773406982, -4.763400077819824, -4.574100017547607, -6.374300003051758, -3.645400047302246, -4.417900085449219, -5.0015997886657715, -5.780600070953369, -6.274199962615967, -6.455999851226807, -4.987299919128418, -5.659299850463867, -4.9359002113342285, -5.866700172424316, -5.145699977874756, -5.76639986038208, -5.220200061798096, -5.793700218200684, -5.987599849700928, -5.125400066375732, -5.807600021362305, -5.527100086212158, -5.711900234222412, -5.812399864196777, -5.385700225830078, -5.775100231170654, -5.726500034332275, -5.68179988861084, -5.569900035858154, -5.83519983291626, -10.411100387573242, -11.341699600219727, -11.54640007019043, -10.96619987487793, -9.855199813842773, -11.575499534606934, -10.891400337219238, -11.596199989318848, -11.6003999710083, -11.282099723815918, -11.603799819946289, -11.912799835205078, -10.308899879455566, -11.619199752807617, -11.472299575805664, -9.62399959564209, -11.431599617004395, -11.931500434875488, -10.877799987792969, -11.482999801635742, -8.143400192260742, -10.642000198364258, -10.627099990844727, -11.646900177001953, -11.646499633789062, -8.178299903869629, -8.151399612426758, -10.188899993896484, -11.031800270080566, -11.649800300598145, -6.186200141906738, -10.21660041809082, -9.541999816894531, -8.744000434875488, -7.120999813079834, -6.723899841308594, -8.027700424194336, -5.430799961090088, -5.908400058746338, -7.7052001953125, -5.9456000328063965, -5.106299877166748, -4.934999942779541, -7.248199939727783, -6.708199977874756, -9.246000289916992, -7.025599956512451, -5.480800151824951, -6.0619001388549805, -5.642300128936768, -6.758399963378906, -4.75629997253418, -6.009300231933594, -6.485000133514404, -4.8119001388549805, -5.773499965667725, -6.344099998474121, -4.088200092315674, -3.609800100326538, -6.0046000480651855, -5.61329984664917, -4.559999942779541, -4.423699855804443, -5.984499931335449, -6.203400135040283, -5.788899898529053, -5.417600154876709, -6.205100059509277, -6.0278000831604, -5.131400108337402, -5.838799953460693, -5.11269998550415, -5.831399917602539, -5.022600173950195, -5.330100059509277, -5.71560001373291, -4.968900203704834, -5.113999843597412, -5.7621002197265625, -5.638700008392334, -5.850599765777588, -5.481400012969971, -5.754199981689453, -5.860099792480469, -10.355199813842773, -10.383999824523926, -11.543100357055664, -11.557999610900879, -11.047300338745117, -11.382399559020996, -11.586199760437012, -10.947699546813965, -11.593899726867676, -11.071100234985352, -11.64680004119873, -11.59689998626709, -11.071599960327148, -11.597399711608887, -10.980899810791016, -11.600500106811523, -11.601200103759766, -11.909600257873535, -11.015800476074219, -10.383500099182129, -6.313799858093262, -11.255900382995605, -11.25790023803711, -11.422100067138672, -11.090999603271484, -11.618000030517578, -11.619600296020508, -12.270899772644043, -10.447999954223633, -11.623299598693848, -8.736900329589844, -8.689900398254395, -5.6290998458862305, -7.5406999588012695, -8.742799758911133, -5.952499866485596, -5.582900047302246, -4.877099990844727, -6.422800064086914, -7.732699871063232, -8.70359992980957, -5.974999904632568, -6.504799842834473, -8.735699653625488, -6.166500091552734, -6.768799781799316, -6.1082000732421875, -5.023399829864502, -8.422300338745117, -8.095800399780273, -6.442800045013428, -7.145500183105469, -7.776899814605713, -5.422399997711182, -4.57390022277832, -4.706500053405762, -5.998000144958496, -5.667399883270264, -6.23769998550415, -7.151199817657471, -6.143099784851074, -5.8109002113342285, -5.9232001304626465, -6.34499979019165, -3.6491000652313232, -5.782400131225586, -5.76170015335083, -6.366199970245361, -5.811500072479248, -4.98960018157959, -6.026700019836426, -4.543700218200684, -4.989999771118164, -4.306399822235107, -4.897900104522705, -5.093800067901611, -4.797599792480469, -5.514400005340576, -5.809500217437744, -5.8815999031066895, -5.158100128173828, -5.455599784851074, -5.761300086975098, -5.432199954986572, -5.663000106811523, -5.778800010681152, -5.8043999671936035, -5.871799945831299]}, \"token.table\": {\"Topic\": [1, 2, 3, 1, 2, 3, 1, 2, 3, 1, 2, 3, 1, 2, 3, 1, 2, 3, 1, 2, 3, 1, 2, 3, 1, 2, 3, 1, 2, 3, 1, 2, 3, 1, 2, 3, 1, 2, 3, 1, 2, 3, 1, 2, 3, 1, 2, 3, 1, 2, 3, 1, 2, 3, 1, 2, 3, 1, 2, 3, 1, 2, 3, 1, 2, 3, 1, 2, 3, 1, 2, 3, 1, 2, 3, 1, 2, 3, 1, 2, 3, 1, 2, 3, 1, 2, 3, 1, 2, 3, 1, 2, 3, 1, 2, 3, 1, 2, 3, 1, 2, 3, 1, 2, 3, 1, 2, 3, 1, 2, 3, 1, 2, 3, 1, 2, 3, 1, 2, 3, 1, 2, 3, 1, 2, 3, 1, 2, 3, 1, 2, 3, 1, 2, 3, 1, 2, 3, 1, 2, 3, 1, 2, 3, 1, 2, 3, 1, 2, 3, 1, 2, 3, 1, 2, 3, 1, 2, 3, 1, 2, 3, 1, 2, 3, 1, 2, 3, 1, 2, 3, 3, 1, 2, 3, 1, 2, 3, 1, 2, 3, 1, 2, 3, 1, 2, 3, 1, 2, 3, 1, 2, 3, 1, 2, 3, 1, 2, 3, 1, 2, 3, 1, 2, 3, 1, 2, 3, 1, 2, 3, 1, 2, 3, 1, 2, 3, 1, 2, 3, 1, 2, 3, 1, 2, 3, 1, 2, 3, 1, 2, 3, 1, 2, 3, 1, 2, 3, 1, 2, 3, 1, 2, 3, 1, 2, 3, 1, 2, 3, 1, 2, 3, 1, 2, 3, 1, 2, 3, 1, 2, 3, 1, 2, 3, 1, 2, 3, 1, 2, 3, 1, 2, 3, 1, 2, 3, 1, 2, 3, 1, 2, 3, 1, 2, 3, 1, 2, 3, 1, 2, 3, 1, 2, 3, 1, 2, 3, 1, 2, 3, 1, 2, 3, 1, 2, 3, 1, 2, 3, 1, 2, 3, 1, 2, 3, 1, 2, 3, 1, 2, 3, 1, 2, 3, 1, 2, 3, 1, 2, 3, 1, 2, 3, 1, 2, 3, 1, 2, 3, 1, 2, 3, 1, 2, 3, 1, 2, 3, 1, 2, 3, 1, 2, 3, 1, 2, 3, 1, 2, 3, 1, 2, 3, 1, 2, 3, 1, 2, 3, 1, 2, 3, 1, 2, 3, 1, 2, 3, 1, 2, 3, 1, 2, 3, 1, 2, 3, 1, 2, 3, 1, 2, 3, 1, 2, 3, 1, 2, 3, 1, 2, 3, 1, 2, 3, 1, 2, 3, 1, 2, 3, 1, 2, 3, 1, 2, 3, 1, 2, 3, 1, 2, 3, 1, 2, 3, 1, 2, 3, 1, 2, 3, 1, 2, 3, 1, 2, 3, 1, 2, 3, 1, 2, 3, 1, 2, 3, 1, 2, 3, 1, 2, 3, 1, 2, 3, 1, 2, 3, 1, 2, 3, 1, 2, 3, 1, 2, 3, 1, 2, 3, 1, 2, 3, 1, 2, 3, 1, 2, 3, 1, 2, 3, 1, 2, 3, 1, 2, 3, 1, 2, 3, 1, 2, 3, 1, 2, 3, 1, 2, 3, 1, 2, 3, 1, 2, 3, 1, 2, 3, 1, 2, 3, 1, 2, 3, 1, 2, 3, 1, 2, 3, 1, 2, 3, 1, 2, 3, 1, 2, 3, 1, 2, 3, 1, 2, 3, 1, 2, 3, 1, 2, 3, 1, 2, 3, 1, 2, 3, 1, 2, 3, 1, 2, 3, 1, 2, 3, 1, 2, 3, 1, 2, 3, 1, 2, 3, 1, 2, 3, 1, 2, 3, 1, 2, 3, 1, 2, 3, 1, 2, 3, 1, 2, 3, 1, 2, 3, 1, 2, 3, 1, 2, 3, 1, 2, 3, 1, 2, 3, 1, 2, 3, 1, 2, 3, 1, 2, 3, 1, 2, 3, 1, 2, 3, 1, 2, 3, 1, 2, 3, 1, 2, 3], \"Freq\": [0.3338228166103363, 0.23783646523952484, 0.428498774766922, 0.3553776443004608, 0.3599306046962738, 0.28474509716033936, 0.3320651948451996, 0.3431922197341919, 0.3247199058532715, 0.24598094820976257, 0.31134653091430664, 0.4420776665210724, 0.32205891609191895, 0.35815173387527466, 0.319745272397995, 0.21994301676750183, 0.35063380002975464, 0.4303233027458191, 0.231681227684021, 0.463362455368042, 0.30890828371047974, 0.650912344455719, 0.3254561722278595, 0.3254561722278595, 0.27813687920570374, 0.4213360548019409, 0.3001675307750702, 0.2355368733406067, 0.4710737466812134, 0.2355368733406067, 0.5767631530761719, 0.19225439429283142, 0.38450878858566284, 0.6512563824653625, 0.3256281912326813, 0.3256281912326813, 0.43832170963287354, 0.43832170963287354, 0.43832170963287354, 0.23293134570121765, 0.5240955352783203, 0.23293134570121765, 0.33928781747817993, 0.33928781747817993, 0.6785756349563599, 0.40936940908432007, 0.20468470454216003, 0.20468470454216003, 0.30159565806388855, 0.5277923941612244, 0.22619673609733582, 0.32234859466552734, 0.32234859466552734, 0.6446971893310547, 0.1795215755701065, 0.5385647416114807, 0.359043151140213, 0.17494823038578033, 0.5248447060585022, 0.17494823038578033, 0.57708340883255, 0.19236113131046295, 0.19236113131046295, 0.19072331488132477, 0.19072331488132477, 0.5721699595451355, 0.5413839817047119, 0.1804613322019577, 0.1804613322019577, 0.6512089967727661, 0.32560449838638306, 0.32560449838638306, 0.1788632720708847, 0.1788632720708847, 0.5365898013114929, 0.40918317437171936, 0.20459158718585968, 0.20459158718585968, 0.22605744004249573, 0.22605744004249573, 0.45211488008499146, 0.2359096109867096, 0.48024454712867737, 0.28646165132522583, 0.650113046169281, 0.3250565230846405, 0.3250565230846405, 0.21119292080402374, 0.5279822945594788, 0.21119292080402374, 0.19068138301372528, 0.19068138301372528, 0.5720441341400146, 0.2793930768966675, 0.558786153793335, 0.2793930768966675, 0.557605504989624, 0.139401376247406, 0.278802752494812, 0.19061312079429626, 0.19061312079429626, 0.5718393325805664, 0.650617778301239, 0.3253088891506195, 0.3253088891506195, 0.2576753795146942, 0.48672014474868774, 0.2576753795146942, 0.440448522567749, 0.440448522567749, 0.440448522567749, 0.15300066769123077, 0.4590020179748535, 0.30600133538246155, 0.2673273980617523, 0.5346547961235046, 0.2673273980617523, 0.2260560244321823, 0.2260560244321823, 0.4521120488643646, 0.5773199796676636, 0.192440003156662, 0.192440003156662, 0.5174556374549866, 0.2956889569759369, 0.22176671028137207, 0.3224616050720215, 0.3224616050720215, 0.644923210144043, 0.5018277764320374, 0.27879318594932556, 0.2230345606803894, 0.33346036076545715, 0.18340320885181427, 0.48351752758026123, 0.17393986880779266, 0.17393986880779266, 0.5218195915222168, 0.650878369808197, 0.3254391849040985, 0.3254391849040985, 0.3241076171398163, 0.6482152342796326, 0.3241076171398163, 0.6510155200958252, 0.3255077600479126, 0.3255077600479126, 0.43789082765579224, 0.3073523938655853, 0.2548607587814331, 0.3600885272026062, 0.4801180362701416, 0.2400590181350708, 0.27291959524154663, 0.22447232902050018, 0.5022366642951965, 0.2658042013645172, 0.2658042013645172, 0.5316084027290344, 0.35654786229133606, 0.25163066387176514, 0.39152026176452637, 0.46088656783103943, 0.2596544027328491, 0.2791284918785095, 0.34141817688941956, 0.22361890971660614, 0.43525823950767517, 0.3090600371360779, 0.2836080491542816, 0.40602004528045654, 0.6171709299087524, 0.22431285679340363, 0.33757975697517395, 0.4375211298465729, 0.1897483766078949, 0.28462257981300354, 0.47437095642089844, 0.46374475955963135, 0.31370967626571655, 0.21823282539844513, 0.5235815048217773, 0.26179075241088867, 0.26179075241088867, 0.32256022095680237, 0.32256022095680237, 0.6451204419136047, 0.4774927496910095, 0.2046397477388382, 0.3069596290588379, 0.6509037613868713, 0.32545188069343567, 0.32545188069343567, 0.42450064420700073, 0.31461217999458313, 0.26042062044143677, 0.2658758759498596, 0.2658758759498596, 0.5317517518997192, 0.3481466472148895, 0.39531490206718445, 0.2560562491416931, 0.20942345261573792, 0.20942345261573792, 0.5235586166381836, 0.38063037395477295, 0.33987951278686523, 0.27918675541877747, 0.35652658343315125, 0.2151043713092804, 0.4278319180011749, 0.32255300879478455, 0.32255300879478455, 0.6451060175895691, 0.26263493299484253, 0.4949658215045929, 0.24243223667144775, 0.2633020877838135, 0.526604175567627, 0.21941840648651123, 0.33554908633232117, 0.40046820044517517, 0.26368385553359985, 0.48308491706848145, 0.24154245853424072, 0.24154245853424072, 0.2353382408618927, 0.4706764817237854, 0.2353382408618927, 0.28252163529396057, 0.25795453786849976, 0.4606330692768097, 0.3076001703739166, 0.40448951721191406, 0.28784602880477905, 0.22035615146160126, 0.3380619287490845, 0.4420809745788574, 0.2264491617679596, 0.2961258292198181, 0.4703175127506256, 0.25451546907424927, 0.36523687839508057, 0.3803352415561676, 0.40949568152427673, 0.3216402530670166, 0.26803353428840637, 0.5772442817687988, 0.1924147605895996, 0.1924147605895996, 0.47049951553344727, 0.2589226961135864, 0.27075913548469543, 0.32224199175834656, 0.32224199175834656, 0.6444839835166931, 0.4668682813644409, 0.25288698077201843, 0.278824120759964, 0.265826553106308, 0.2798174321651459, 0.4535987973213196, 0.35396069288253784, 0.3255355656147003, 0.32079803943634033, 0.44060322642326355, 0.44060322642326355, 0.44060322642326355, 0.2805602252483368, 0.2454902082681656, 0.4909804165363312, 0.27370455861091614, 0.42826712131500244, 0.2978549599647522, 0.34073829650878906, 0.3814554512500763, 0.27787670493125916, 0.3490038216114044, 0.44707101583480835, 0.20190303027629852, 0.4127044379711151, 0.3192790448665619, 0.2684846520423889, 0.4242616891860962, 0.2606830596923828, 0.3154265284538269, 0.32479164004325867, 0.6495832800865173, 0.32479164004325867, 0.1985418051481247, 0.4915621280670166, 0.3094513714313507, 0.48408979177474976, 0.27230051159858704, 0.24204489588737488, 0.3638230562210083, 0.25847217440605164, 0.377685010433197, 0.5109575986862183, 0.20438304543495178, 0.20438304543495178, 0.4222826659679413, 0.27705317735671997, 0.3005133271217346, 0.30504274368286133, 0.4415856599807739, 0.2527496814727783, 0.3189115524291992, 0.32041940093040466, 0.3611315190792084, 0.23743069171905518, 0.35709577798843384, 0.4045819044113159, 0.288563996553421, 0.304415225982666, 0.4070878028869629, 0.3203268349170685, 0.4250686466693878, 0.25456660985946655, 0.35001909732818604, 0.34703171253204346, 0.30288517475128174, 0.3648229241371155, 0.256084680557251, 0.3789955675601959, 0.4820449948310852, 0.21453651785850525, 0.30194029211997986, 0.3045068085193634, 0.4549258351325989, 0.2384691834449768, 0.43742817640304565, 0.22119010984897614, 0.34168919920921326, 0.48990118503570557, 0.3266007900238037, 0.24495059251785278, 0.26552337408065796, 0.3346136212348938, 0.399639755487442, 0.1993701308965683, 0.29905518889427185, 0.49842530488967896, 0.4443006217479706, 0.3394656479358673, 0.21715816855430603, 0.3226448893547058, 0.3226448893547058, 0.6452897787094116, 0.32427430152893066, 0.6485486030578613, 0.32427430152893066, 0.4580381214618683, 0.2823522686958313, 0.2572542726993561, 0.322674959897995, 0.322674959897995, 0.64534991979599, 0.22849272191524506, 0.47042620182037354, 0.3024168312549591, 0.3151969015598297, 0.3922998607158661, 0.2923744320869446, 0.2762649953365326, 0.5031969547271729, 0.22693195939064026, 0.4275747239589691, 0.14252491295337677, 0.28504982590675354, 0.28682273626327515, 0.39107176661491394, 0.32212400436401367, 0.27281805872917175, 0.35003072023391724, 0.37797436118125916, 0.324084609746933, 0.648169219493866, 0.324084609746933, 0.3309321403503418, 0.26528164744377136, 0.40328168869018555, 0.31256726384162903, 0.2900162637233734, 0.3975268304347992, 0.425886869430542, 0.2927381992340088, 0.2814064025878906, 0.6509390473365784, 0.3254695236682892, 0.3254695236682892, 0.3224867582321167, 0.3224867582321167, 0.6449735164642334, 0.29264453053474426, 0.4083142876625061, 0.2995847165584564, 0.425547331571579, 0.2820488214492798, 0.29194527864456177, 0.29146140813827515, 0.4361126124858856, 0.27203065156936646, 0.3223087191581726, 0.3223087191581726, 0.6446174383163452, 0.3239687383174896, 0.2868788540363312, 0.3890652656555176, 0.22609637677669525, 0.45029279589653015, 0.32299482822418213, 0.29330044984817505, 0.447268545627594, 0.25934550166130066, 0.20740996301174164, 0.3456832766532898, 0.44688329100608826, 0.4515360891819, 0.31680354475975037, 0.22940947115421295, 0.24991919100284576, 0.30563366413116455, 0.44412389397621155, 0.3243037462234497, 0.6486074924468994, 0.3243037462234497, 0.3607526123523712, 0.31596529483795166, 0.3230208456516266, 0.19080890715122223, 0.19080890715122223, 0.5724266767501831, 0.5033060312271118, 0.18488793075084686, 0.31841808557510376, 0.43027523159980774, 0.26409998536109924, 0.30564379692077637, 0.29751503467559814, 0.47007375955581665, 0.2320617288351059, 0.41470009088516235, 0.2568938434123993, 0.32906877994537354, 0.2343803197145462, 0.5078240036964417, 0.27344369888305664, 0.3751346468925476, 0.4107534885406494, 0.21371306478977203, 0.47912123799324036, 0.2927963137626648, 0.21294277906417847, 0.5365403294563293, 0.2682701647281647, 0.2682701647281647, 0.35760724544525146, 0.36177006363868713, 0.280693918466568, 0.32178547978401184, 0.48267823457717896, 0.16089273989200592, 0.3829730153083801, 0.15667077898979187, 0.4526044726371765, 0.2671305239200592, 0.4187980592250824, 0.3140985369682312, 0.34331223368644714, 0.34153032302856445, 0.3153958320617676, 0.3491048812866211, 0.19948850572109222, 0.4488491415977478, 0.3244391083717346, 0.6488782167434692, 0.3244391083717346, 0.3328436315059662, 0.24107831716537476, 0.42460891604423523, 0.32269686460494995, 0.32269686460494995, 0.6453937292098999, 0.2726196050643921, 0.2555809020996094, 0.47708430886268616, 0.38258957862854004, 0.13307464122772217, 0.4657612442970276, 0.33755993843078613, 0.3406682312488556, 0.3213968575000763, 0.323812335729599, 0.647624671459198, 0.323812335729599, 0.6510664224624634, 0.3255332112312317, 0.3255332112312317, 0.32544809579849243, 0.4172757863998413, 0.2572525441646576, 0.47967109084129333, 0.244730144739151, 0.27605560421943665, 0.402959406375885, 0.2588708996772766, 0.33824169635772705, 0.34965139627456665, 0.30774012207984924, 0.34261733293533325, 0.23606844246387482, 0.32661524415016174, 0.43656492233276367, 0.4080282747745514, 0.366951584815979, 0.2245524674654007, 0.3388887941837311, 0.16944439709186554, 0.5083332061767578, 0.10643841326236725, 0.31931522488594055, 0.532192051410675, 0.31534942984580994, 0.44779619574546814, 0.23756323754787445, 0.30598023533821106, 0.23254498839378357, 0.46508997678756714, 0.32434526085853577, 0.6486905217170715, 0.32434526085853577, 0.36640456318855286, 0.2373606264591217, 0.39649254083633423, 0.32346317172050476, 0.27678894996643066, 0.4005298912525177, 0.4466470777988434, 0.3424820303916931, 0.2114866077899933, 0.44731059670448303, 0.3226291835308075, 0.2313675433397293, 0.4763709604740143, 0.30086585879325867, 0.2256494015455246, 0.47558414936065674, 0.28823280334472656, 0.23058626055717468, 0.27922290563583374, 0.5584458112716675, 0.27922290563583374, 0.27132025361061096, 0.35103803873062134, 0.3776106536388397, 0.21799543499946594, 0.4021008312702179, 0.37920212745666504, 0.3590138554573059, 0.28857874870300293, 0.3521755039691925, 0.30347883701324463, 0.226323202252388, 0.46807754039764404, 0.3835374116897583, 0.36365029215812683, 0.25285059213638306, 0.407490611076355, 0.2801955044269562, 0.31238508224487305, 0.19663451611995697, 0.491586297750473, 0.3146152198314667, 0.1769271194934845, 0.5307813286781311, 0.26539066433906555, 0.5069788694381714, 0.22532393038272858, 0.2534894347190857, 0.27112799882888794, 0.43030375242233276, 0.29840365052223206, 0.541592001914978, 0.18053066730499268, 0.18053066730499268, 0.3224674165248871, 0.3224674165248871, 0.6449348330497742, 0.2673724293708801, 0.5347448587417603, 0.2673724293708801, 0.3163728713989258, 0.47455930709838867, 0.2120371311903, 0.41091188788414, 0.29664143919944763, 0.2920244634151459, 0.3758563995361328, 0.2906869649887085, 0.33327168226242065, 0.3267175555229187, 0.41670817136764526, 0.2567885220050812, 0.31851717829704285, 0.3833158016204834, 0.297526091337204, 0.21082790195941925, 0.36365026235580444, 0.42611777782440186, 0.32434090971946716, 0.6486818194389343, 0.32434090971946716, 0.3652390241622925, 0.34056997299194336, 0.2939728796482086, 0.29179468750953674, 0.42461881041526794, 0.28342780470848083, 0.4924374520778656, 0.26618242263793945, 0.23956416547298431, 0.26114028692245483, 0.4874618649482727, 0.24373093247413635], \"Term\": [\"\\n\", \"\\n\", \"\\n\", \"\\n\\n\", \"\\n\\n\", \"\\n\\n\", \" \", \" \", \" \", \" \\n\\n\", \" \\n\\n\", \" \\n\\n\", \"$\", \"$\", \"$\", \"15\", \"15\", \"15\", \"2.00\", \"2.00\", \"2.00\", \"3:55\", \"3:55\", \"3:55\", \"5\", \"5\", \"5\", \"7.5\", \"7.5\", \"7.5\", \"7699.00\", \"7699.00\", \"7699.00\", \"APARTMENT\", \"APARTMENT\", \"APARTMENT\", \"Affiliated\", \"Affiliated\", \"Affiliated\", \"Ale\", \"Ale\", \"Ale\", \"Ana\", \"Ana\", \"Ana\", \"App\", \"App\", \"App\", \"Atmosphere\", \"Atmosphere\", \"Atmosphere\", \"BUGS\", \"BUGS\", \"BUGS\", \"Bally\", \"Bally\", \"Bally\", \"Barista\", \"Barista\", \"Barista\", \"Brooker\", \"Brooker\", \"Brooker\", \"Cheesetart\", \"Cheesetart\", \"Cheesetart\", \"Children\", \"Children\", \"Children\", \"Cluny\", \"Cluny\", \"Cluny\", \"Crust\", \"Crust\", \"Crust\", \"E\", \"E\", \"E\", \"FRAUD\", \"FRAUD\", \"FRAUD\", \"Food\", \"Food\", \"Food\", \"Holidays\", \"Holidays\", \"Holidays\", \"Hollandaise\", \"Hollandaise\", \"Hollandaise\", \"Ink\", \"Ink\", \"Ink\", \"Jaipur\", \"Jaipur\", \"Jaipur\", \"Kabab\", \"Kabab\", \"Kabab\", \"Leann\", \"Leann\", \"Leann\", \"Margs\", \"Margs\", \"Margs\", \"McDonald\", \"McDonald\", \"McDonald\", \"McRib\", \"McRib\", \"McRib\", \"Nail\", \"Nail\", \"Nail\", \"PRICED\", \"PRICED\", \"PRICED\", \"Painting\", \"Painting\", \"Painting\", \"Penzys\", \"Penzys\", \"Penzys\", \"Pumpkin\", \"Pumpkin\", \"Pumpkin\", \"STFU\", \"STFU\", \"STFU\", \"Steak\", \"Steak\", \"Steak\", \"Super\", \"Super\", \"Super\", \"Team\", \"Team\", \"Team\", \"Victor\", \"Victor\", \"Victor\", \"Wachtel\", \"Wachtel\", \"Wachtel\", \"Yeahhhhhhh\", \"Yeahhhhhhh\", \"Yeahhhhhhh\", \"ask\", \"ask\", \"ask\", \"audio\", \"audio\", \"audio\", \"awesome\", \"awesome\", \"awesome\", \"axle\", \"axle\", \"axle\", \"bad\", \"bad\", \"bad\", \"bag\", \"bag\", \"bag\", \"bar\", \"bar\", \"bar\", \"bit\", \"bit\", \"bit\", \"blowingly\", \"breakfast\", \"breakfast\", \"breakfast\", \"brussel\", \"brussel\", \"brussel\", \"bunch\", \"bunch\", \"bunch\", \"cabinet\", \"cabinet\", \"cabinet\", \"california\", \"california\", \"california\", \"camera\", \"camera\", \"camera\", \"cantina\", \"cantina\", \"cantina\", \"car\", \"car\", \"car\", \"carriage\", \"carriage\", \"carriage\", \"check\", \"check\", \"check\", \"cheesetart\", \"cheesetart\", \"cheesetart\", \"chicken\", \"chicken\", \"chicken\", \"clean\", \"clean\", \"clean\", \"clemente\", \"clemente\", \"clemente\", \"client\", \"client\", \"client\", \"closed\", \"closed\", \"closed\", \"come\", \"come\", \"come\", \"competent\", \"competent\", \"competent\", \"congee\", \"congee\", \"congee\", \"cup\", \"cup\", \"cup\", \"customer\", \"customer\", \"customer\", \"day\", \"day\", \"day\", \"decorate\", \"decorate\", \"decorate\", \"definitely\", \"definitely\", \"definitely\", \"different\", \"different\", \"different\", \"dilate\", \"dilate\", \"dilate\", \"dinner\", \"dinner\", \"dinner\", \"dolci\", \"dolci\", \"dolci\", \"donut\", \"donut\", \"donut\", \"drink\", \"drink\", \"drink\", \"eat\", \"eat\", \"eat\", \"edgy\", \"edgy\", \"edgy\", \"elevator\", \"elevator\", \"elevator\", \"excellent\", \"excellent\", \"excellent\", \"experience\", \"experience\", \"experience\", \"extra\", \"extra\", \"extra\", \"feel\", \"feel\", \"feel\", \"find\", \"find\", \"find\", \"fixable\", \"fixable\", \"fixable\", \"flavor\", \"flavor\", \"flavor\", \"focus\", \"focus\", \"focus\", \"food\", \"food\", \"food\", \"fraud\", \"fraud\", \"fraud\", \"fresh\", \"fresh\", \"fresh\", \"friend\", \"friend\", \"friend\", \"friendly\", \"friendly\", \"friendly\", \"fry\", \"fry\", \"fry\", \"get\", \"get\", \"get\", \"go\", \"go\", \"go\", \"good\", \"good\", \"good\", \"great\", \"great\", \"great\", \"hair\", \"hair\", \"hair\", \"happen\", \"happen\", \"happen\", \"help\", \"help\", \"help\", \"hoagie\", \"hoagie\", \"hoagie\", \"home\", \"home\", \"home\", \"horrific\", \"horrific\", \"horrific\", \"husband\", \"husband\", \"husband\", \"inconvience\", \"inconvience\", \"inconvience\", \"interchangeably\", \"interchangeably\", \"interchangeably\", \"italian\", \"italian\", \"italian\", \"kibbi\", \"kibbi\", \"kibbi\", \"kid\", \"kid\", \"kid\", \"know\", \"know\", \"know\", \"la\", \"la\", \"la\", \"lebanese\", \"lebanese\", \"lebanese\", \"like\", \"like\", \"like\", \"little\", \"little\", \"little\", \"locatoon\", \"locatoon\", \"locatoon\", \"long\", \"long\", \"long\", \"look\", \"look\", \"look\", \"love\", \"love\", \"love\", \"manicured\", \"manicured\", \"manicured\", \"mbr\", \"mbr\", \"mbr\", \"meal\", \"meal\", \"meal\", \"minute\", \"minute\", \"minute\", \"money\", \"money\", \"money\", \"nancy\", \"nancy\", \"nancy\", \"need\", \"need\", \"need\", \"new\", \"new\", \"new\", \"nice\", \"nice\", \"nice\", \"night\", \"night\", \"night\", \"oh\", \"oh\", \"oh\", \"open\", \"open\", \"open\", \"orbitz\", \"orbitz\", \"orbitz\", \"order\", \"order\", \"order\", \"outrageously\", \"outrageously\", \"outrageously\", \"pain\", \"pain\", \"pain\", \"party\", \"party\", \"party\", \"pasta\", \"pasta\", \"pasta\", \"pay\", \"pay\", \"pay\", \"peaceful\", \"peaceful\", \"peaceful\", \"people\", \"people\", \"people\", \"pig\", \"pig\", \"pig\", \"pitfall\", \"pitfall\", \"pitfall\", \"place\", \"place\", \"place\", \"planet\", \"planet\", \"planet\", \"pleased\", \"pleased\", \"pleased\", \"pretty\", \"pretty\", \"pretty\", \"price\", \"price\", \"price\", \"pricey\", \"pricey\", \"pricey\", \"propre\", \"propre\", \"propre\", \"quality\", \"quality\", \"quality\", \"ranchos\", \"ranchos\", \"ranchos\", \"relaxing\", \"relaxing\", \"relaxing\", \"resort\", \"resort\", \"resort\", \"restaurant\", \"restaurant\", \"restaurant\", \"romper\", \"romper\", \"romper\", \"sandbar\", \"sandbar\", \"sandbar\", \"say\", \"say\", \"say\", \"selection\", \"selection\", \"selection\", \"server\", \"server\", \"server\", \"service\", \"service\", \"service\", \"show\", \"show\", \"show\", \"sit\", \"sit\", \"sit\", \"snobbish\", \"snobbish\", \"snobbish\", \"sole\", \"sole\", \"sole\", \"soup\", \"soup\", \"soup\", \"specialty\", \"specialty\", \"specialty\", \"spicery\", \"spicery\", \"spicery\", \"staff\", \"staff\", \"staff\", \"star\", \"star\", \"star\", \"stop\", \"stop\", \"stop\", \"store\", \"store\", \"store\", \"stumble\", \"stumble\", \"stumble\", \"stylist\", \"stylist\", \"stylist\", \"swimsuit\", \"swimsuit\", \"swimsuit\", \"take\", \"take\", \"take\", \"taste\", \"taste\", \"taste\", \"tell\", \"tell\", \"tell\", \"terrible\", \"terrible\", \"terrible\", \"think\", \"think\", \"think\", \"time\", \"time\", \"time\", \"tiny\", \"tiny\", \"tiny\", \"torta\", \"torta\", \"torta\", \"trash\", \"trash\", \"trash\", \"try\", \"try\", \"try\", \"und\", \"und\", \"und\", \"uplift\", \"uplift\", \"uplift\", \"vampiro\", \"vampiro\", \"vampiro\", \"variety\", \"variety\", \"variety\", \"visit\", \"visit\", \"visit\", \"wait\", \"wait\", \"wait\", \"want\", \"want\", \"want\", \"way\", \"way\", \"way\", \"well\", \"well\", \"well\", \"whooaaaa\", \"whooaaaa\", \"whooaaaa\", \"work\", \"work\", \"work\", \"year\", \"year\", \"year\", \"yelp\", \"yelp\", \"yelp\", \"yogurt\", \"yogurt\", \"yogurt\"]}, \"R\": 30, \"lambda.step\": 0.01, \"plot.opts\": {\"xlab\": \"PC1\", \"ylab\": \"PC2\"}, \"topic.order\": [2, 3, 1]};\n",
       "\n",
       "function LDAvis_load_lib(url, callback){\n",
       "  var s = document.createElement('script');\n",
       "  s.src = url;\n",
       "  s.async = true;\n",
       "  s.onreadystatechange = s.onload = callback;\n",
       "  s.onerror = function(){console.warn(\"failed to load library \" + url);};\n",
       "  document.getElementsByTagName(\"head\")[0].appendChild(s);\n",
       "}\n",
       "\n",
       "if(typeof(LDAvis) !== \"undefined\"){\n",
       "   // already loaded: just create the visualization\n",
       "   !function(LDAvis){\n",
       "       new LDAvis(\"#\" + \"ldavis_el1350425882249621201101603089\", ldavis_el1350425882249621201101603089_data);\n",
       "   }(LDAvis);\n",
       "}else if(typeof define === \"function\" && define.amd){\n",
       "   // require.js is available: use it to load d3/LDAvis\n",
       "   require.config({paths: {d3: \"https://cdnjs.cloudflare.com/ajax/libs/d3/3.5.5/d3.min\"}});\n",
       "   require([\"d3\"], function(d3){\n",
       "      window.d3 = d3;\n",
       "      LDAvis_load_lib(\"https://cdn.rawgit.com/bmabey/pyLDAvis/files/ldavis.v1.0.0.js\", function(){\n",
       "        new LDAvis(\"#\" + \"ldavis_el1350425882249621201101603089\", ldavis_el1350425882249621201101603089_data);\n",
       "      });\n",
       "    });\n",
       "}else{\n",
       "    // require.js not available: dynamically load d3 & LDAvis\n",
       "    LDAvis_load_lib(\"https://cdnjs.cloudflare.com/ajax/libs/d3/3.5.5/d3.min.js\", function(){\n",
       "         LDAvis_load_lib(\"https://cdn.rawgit.com/bmabey/pyLDAvis/files/ldavis.v1.0.0.js\", function(){\n",
       "                 new LDAvis(\"#\" + \"ldavis_el1350425882249621201101603089\", ldavis_el1350425882249621201101603089_data);\n",
       "            })\n",
       "         });\n",
       "}\n",
       "</script>"
      ],
      "text/plain": [
       "PreparedData(topic_coordinates=              x         y  topics  cluster       Freq\n",
       "topic                                                \n",
       "1      0.001109 -0.004267       1        1  33.572098\n",
       "2     -0.004682  0.001274       2        1  33.478012\n",
       "0      0.003574  0.002993       3        1  32.949886, topic_info=     Category         Freq        Term         Total  loglift  logprob\n",
       "321   Default  3052.000000          \\n   3052.000000  30.0000  30.0000\n",
       "147   Default  4689.000000        food   4689.000000  29.0000  29.0000\n",
       "208   Default  4092.000000       great   4092.000000  28.0000  28.0000\n",
       "434   Default  1461.000000         day   1461.000000  27.0000  27.0000\n",
       "83    Default  2950.000000          go   2950.000000  26.0000  26.0000\n",
       "40    Default  2456.000000         try   2456.000000  25.0000  25.0000\n",
       "98    Default   998.000000       night    998.000000  24.0000  24.0000\n",
       "620   Default  1358.000000       drink   1358.000000  23.0000  23.0000\n",
       "39    Default  4100.000000        time   4100.000000  22.0000  22.0000\n",
       "509   Default   730.000000      flavor    730.000000  21.0000  21.0000\n",
       "97    Default  1708.000000        nice   1708.000000  20.0000  20.0000\n",
       "43    Default  3743.000000        come   3743.000000  19.0000  19.0000\n",
       "327   Default   619.000000     awesome    619.000000  18.0000  18.0000\n",
       "129   Default  1319.000000      people   1319.000000  17.0000  17.0000\n",
       "82    Default  2775.000000         get   2775.000000  16.0000  16.0000\n",
       "1000  Default  1052.000000         new   1052.000000  15.0000  15.0000\n",
       "506   Default   896.000000        well    896.000000  14.0000  14.0000\n",
       "64    Default  1001.000000         bar   1001.000000  13.0000  13.0000\n",
       "705   Default  1091.000000       taste   1091.000000  12.0000  12.0000\n",
       "52    Default  1495.000000       staff   1495.000000  11.0000  11.0000\n",
       "692   Default  2117.000000        love   2117.000000  10.0000  10.0000\n",
       "879   Default   841.000000       clean    841.000000   9.0000   9.0000\n",
       "417   Default  1447.000000         ask   1447.000000   8.0000   8.0000\n",
       "55    Default  8126.000000        \\n\\n   8126.000000   7.0000   7.0000\n",
       "24    Default  3625.000000        like   3625.000000   6.0000   6.0000\n",
       "355   Default  1534.000000        find   1534.000000   5.0000   5.0000\n",
       "301   Default  1744.000000        want   1744.000000   4.0000   4.0000\n",
       "150   Default  1052.000000         fry   1052.000000   3.0000   3.0000\n",
       "554   Default  1032.000000      friend   1032.000000   2.0000   2.0000\n",
       "35    Default  1481.000000         say   1481.000000   1.0000   1.0000\n",
       "...       ...          ...         ...           ...      ...      ...\n",
       "140    Topic3   335.458893         bit    825.082397   0.2102  -6.2377\n",
       "135    Topic3   134.558289          15    313.717621   0.2637  -7.1512\n",
       "163    Topic3   368.751373        star    921.279541   0.1945  -6.1431\n",
       "96     Topic3   514.022034        need   1321.115112   0.1662  -5.8109\n",
       "139    Topic3   459.425934         bad   1172.353149   0.1734  -5.9232\n",
       "92     Topic3   301.312469        long    746.376587   0.2031  -6.3450\n",
       "0      Topic3  4465.286133              13750.311523  -0.0145  -3.6491\n",
       "343    Topic3   528.875854  definitely   1390.878174   0.1432  -5.7824\n",
       "392    Topic3   539.946289        take   1430.044434   0.1362  -5.7617\n",
       "688    Topic3   294.998871        home    738.164795   0.1930  -6.3662\n",
       "367    Topic3   513.708679      little   1359.880615   0.1367  -5.8115\n",
       "51     Topic3  1168.656738     service   3411.969727   0.0387  -4.9896\n",
       "705    Topic3   414.245636       taste   1091.765991   0.1411  -6.0267\n",
       "46     Topic3  1825.335815        good   6025.385742  -0.0840  -4.5437\n",
       "24     Topic3  1168.136963        like   3625.932861  -0.0225  -4.9900\n",
       "55     Topic3  2314.163086        \\n\\n   8126.566406  -0.1459  -4.3064\n",
       "39     Topic3  1280.891846        time   4100.708008  -0.0534  -4.8979\n",
       "373    Topic3  1052.994263       order   3259.851562  -0.0199  -5.0938\n",
       "131    Topic3  1415.940186       place   5044.640625  -0.1604  -4.7976\n",
       "1      Topic3   691.482300           $   2161.095215  -0.0294  -5.5144\n",
       "497    Topic3   514.739929        tell   1462.339111   0.0661  -5.8095\n",
       "45     Topic3   478.952423    friendly   1326.386597   0.0916  -5.8816\n",
       "43     Topic3   987.394104        come   3743.118652  -0.2224  -5.1581\n",
       "40     Topic3   733.315125         try   2456.404297  -0.0987  -5.4556\n",
       "41     Topic3   540.161987        wait   1620.299683   0.0117  -5.7613\n",
       "83     Topic3   750.687744          go   2950.111816  -0.2584  -5.4322\n",
       "692    Topic3   595.964661        love   2117.933350  -0.1578  -5.6630\n",
       "157    Topic3   530.829407       price   1683.598633  -0.0441  -5.7788\n",
       "106    Topic3   517.383667  restaurant   1608.603149  -0.0242  -5.8044\n",
       "355    Topic3   483.690277        find   1534.430298  -0.0443  -5.8718\n",
       "\n",
       "[291 rows x 6 columns], token_table=       Topic      Freq      Term\n",
       "term                            \n",
       "321        1  0.333823        \\n\n",
       "321        2  0.237836        \\n\n",
       "321        3  0.428499        \\n\n",
       "55         1  0.355378      \\n\\n\n",
       "55         2  0.359931      \\n\\n\n",
       "55         3  0.284745      \\n\\n\n",
       "0          1  0.332065          \n",
       "0          2  0.343192          \n",
       "0          3  0.324720          \n",
       "1078       1  0.245981      \\n\\n\n",
       "1078       2  0.311347      \\n\\n\n",
       "1078       3  0.442078      \\n\\n\n",
       "1          1  0.322059         $\n",
       "1          2  0.358152         $\n",
       "1          3  0.319745         $\n",
       "135        1  0.219943        15\n",
       "135        2  0.350634        15\n",
       "135        3  0.430323        15\n",
       "10782      1  0.231681      2.00\n",
       "10782      2  0.463362      2.00\n",
       "10782      3  0.308908      2.00\n",
       "27532      1  0.650912      3:55\n",
       "27532      2  0.325456      3:55\n",
       "27532      3  0.325456      3:55\n",
       "926        1  0.278137         5\n",
       "926        2  0.421336         5\n",
       "926        3  0.300168         5\n",
       "13850      1  0.235537       7.5\n",
       "13850      2  0.471074       7.5\n",
       "13850      3  0.235537       7.5\n",
       "...      ...       ...       ...\n",
       "645        1  0.410912     visit\n",
       "645        2  0.296641     visit\n",
       "645        3  0.292024     visit\n",
       "41         1  0.375856      wait\n",
       "41         2  0.290687      wait\n",
       "41         3  0.333272      wait\n",
       "301        1  0.326718      want\n",
       "301        2  0.416708      want\n",
       "301        3  0.256789      want\n",
       "234        1  0.318517       way\n",
       "234        2  0.383316       way\n",
       "234        3  0.297526       way\n",
       "506        1  0.210828      well\n",
       "506        2  0.363650      well\n",
       "506        3  0.426118      well\n",
       "28979      1  0.324341  whooaaaa\n",
       "28979      2  0.648682  whooaaaa\n",
       "28979      3  0.324341  whooaaaa\n",
       "319        1  0.365239      work\n",
       "319        2  0.340570      work\n",
       "319        3  0.293973      work\n",
       "118        1  0.291795      year\n",
       "118        2  0.424619      year\n",
       "118        3  0.283428      year\n",
       "4308       1  0.492437      yelp\n",
       "4308       2  0.266182      yelp\n",
       "4308       3  0.239564      yelp\n",
       "2761       1  0.261140    yogurt\n",
       "2761       2  0.487462    yogurt\n",
       "2761       3  0.243731    yogurt\n",
       "\n",
       "[625 rows x 3 columns], R=30, lambda_step=0.01, plot_opts={'xlab': 'PC1', 'ylab': 'PC2'}, topic_order=[2, 3, 1])"
      ]
     },
     "execution_count": 17,
     "metadata": {},
     "output_type": "execute_result"
    }
   ],
   "source": [
    "pyLDAvis.gensim.prepare(lda, corpus, id2word)"
   ]
  },
  {
   "cell_type": "markdown",
   "metadata": {},
   "source": [
    "The yelp reviews are primarily concerned with quality of food and quality of service as topics. In addition, there appears to be a third, less-important topic abou the general ambiance of the restaurant. This suggests a divide between those who primarily focus on the food as food, and those who focus on the dining experience."
   ]
  },
  {
   "cell_type": "markdown",
   "metadata": {},
   "source": [
    "## Stretch Goals\n",
    "\n",
    "Complete one of more of these to push your score towards a three: \n",
    "* Incorporate named entity recognition into your analysis\n",
    "* Compare vectorization methods in the classification section\n",
    "* Analyze more (or all) of the yelp dataset - this one is v. hard. \n",
    "* Use a generator object on the reviews file - this would help you with the analyzing the whole dataset.\n",
    "* Incorporate any of the other yelp dataset entities in your analysis (business, users, etc.)"
   ]
  }
 ],
 "metadata": {
  "kernel_info": {
   "name": "u4-s1-nlp"
  },
  "kernelspec": {
   "display_name": "Python 3",
   "language": "python",
   "name": "python3"
  },
  "language_info": {
   "codemirror_mode": {
    "name": "ipython",
    "version": 3
   },
   "file_extension": ".py",
   "mimetype": "text/x-python",
   "name": "python",
   "nbconvert_exporter": "python",
   "pygments_lexer": "ipython3",
   "version": "3.7.4"
  },
  "nteract": {
   "version": "0.14.5"
  },
  "toc-autonumbering": false
 },
 "nbformat": 4,
 "nbformat_minor": 4
}
